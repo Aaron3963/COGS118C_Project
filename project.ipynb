{
 "cells": [
  {
   "cell_type": "markdown",
   "metadata": {},
   "source": [
    "## Proposal"
   ]
  }
 ],
 "metadata": {
  "authors": [
   {
    "name": "Xueyan Shi"
   },
   {
    "name": "Brandon Chau"
   },
   {
    "name": "Kelvin Li"
   },
   {
    "name": "Jeff Ung"
   }
  ],
  "kernelspec": {
   "display_name": "Python 3 (ipykernel)",
   "language": "python",
   "name": "python3"
  },
  "language_info": {
   "codemirror_mode": {
    "name": "ipython",
    "version": 3
   },
   "file_extension": ".py",
   "mimetype": "text/x-python",
   "name": "python",
   "nbconvert_exporter": "python",
   "pygments_lexer": "ipython3",
   "version": "3.10.9"
  },
  "title": "COGS 118C Final Project"
 },
 "nbformat": 4,
 "nbformat_minor": 2
}
